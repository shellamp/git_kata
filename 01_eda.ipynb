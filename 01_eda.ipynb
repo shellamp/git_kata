{
 "cells": [
  {
   "cell_type": "code",
   "execution_count": 1,
   "metadata": {},
   "outputs": [],
   "source": [
    "%reload_ext autoreload\n",
    "%autoreload 2"
   ]
  },
  {
   "cell_type": "code",
   "execution_count": 4,
   "metadata": {},
   "outputs": [
    {
     "name": "stdout",
     "output_type": "stream",
     "text": [
      "      pclass  survived                                             name  \\\n",
      "0          1         1                    Allen, Miss. Elisabeth Walton   \n",
      "2          1         0                     Allison, Miss. Helen Loraine   \n",
      "4          1         0  Allison, Mrs. Hudson J C (Bessie Waldo Daniels)   \n",
      "6          1         1                Andrews, Miss. Kornelia Theodosia   \n",
      "8          1         1    Appleton, Mrs. Edward Dale (Charlotte Lamson)   \n",
      "...      ...       ...                                              ...   \n",
      "1286       3         1  Whabee, Mrs. George Joseph (Shawneene Abi-Saab)   \n",
      "1290       3         1                 Wilkes, Mrs. James (Ellen Needs)   \n",
      "1300       3         1          Yasbeck, Mrs. Antoni (Selini Alexander)   \n",
      "1304       3         0                             Zabour, Miss. Hileni   \n",
      "1305       3         0                            Zabour, Miss. Thamine   \n",
      "\n",
      "         sex   age  sibsp  parch  ticket      fare    cabin embarked boat  \\\n",
      "0     female  29.0      0      0   24160  211.3375       B5        S    2   \n",
      "2     female   2.0      1      2  113781  151.5500  C22 C26        S  NaN   \n",
      "4     female  25.0      1      2  113781  151.5500  C22 C26        S  NaN   \n",
      "6     female  63.0      1      0   13502   77.9583       D7        S   10   \n",
      "8     female  53.0      2      0   11769   51.4792     C101        S    D   \n",
      "...      ...   ...    ...    ...     ...       ...      ...      ...  ...   \n",
      "1286  female  38.0      0      0    2688    7.2292      NaN        C    C   \n",
      "1290  female  47.0      1      0  363272    7.0000      NaN        S  NaN   \n",
      "1300  female  15.0      1      0    2659   14.4542      NaN        C  NaN   \n",
      "1304  female  14.5      1      0    2665   14.4542      NaN        C  NaN   \n",
      "1305  female   NaN      1      0    2665   14.4542      NaN        C  NaN   \n",
      "\n",
      "       body                        home.dest  \n",
      "0       NaN                     St Louis, MO  \n",
      "2       NaN  Montreal, PQ / Chesterville, ON  \n",
      "4       NaN  Montreal, PQ / Chesterville, ON  \n",
      "6       NaN                       Hudson, NY  \n",
      "8       NaN              Bayside, Queens, NY  \n",
      "...     ...                              ...  \n",
      "1286    NaN                              NaN  \n",
      "1290    NaN                              NaN  \n",
      "1300    NaN                              NaN  \n",
      "1304  328.0                              NaN  \n",
      "1305    NaN                              NaN  \n",
      "\n",
      "[466 rows x 14 columns]\n"
     ]
    }
   ],
   "source": [
    "import pandas as pd\n",
    "df = pd.read_csv('/Users/sheillapurwandiary/Desktop/HWR - BIPM_mac/Semester 2/EABD/git_kata/data/titanic.csv') \n",
    "female_passengers = df[df['sex'] == 'female']\n",
    "print(female_passengers)"
   ]
  },
  {
   "cell_type": "code",
   "execution_count": 3,
   "metadata": {},
   "outputs": [
    {
     "data": {
      "text/plain": [
       "<bound method NDFrame.head of       pclass  survived                                             name  \\\n",
       "0          1         1                    Allen, Miss. Elisabeth Walton   \n",
       "1          1         1                   Allison, Master. Hudson Trevor   \n",
       "2          1         0                     Allison, Miss. Helen Loraine   \n",
       "3          1         0             Allison, Mr. Hudson Joshua Creighton   \n",
       "4          1         0  Allison, Mrs. Hudson J C (Bessie Waldo Daniels)   \n",
       "...      ...       ...                                              ...   \n",
       "1304       3         0                             Zabour, Miss. Hileni   \n",
       "1305       3         0                            Zabour, Miss. Thamine   \n",
       "1306       3         0                        Zakarian, Mr. Mapriededer   \n",
       "1307       3         0                              Zakarian, Mr. Ortin   \n",
       "1308       3         0                               Zimmerman, Mr. Leo   \n",
       "\n",
       "         sex      age  sibsp  parch  ticket      fare    cabin embarked boat  \\\n",
       "0     female  29.0000      0      0   24160  211.3375       B5        S    2   \n",
       "1       male   0.9167      1      2  113781  151.5500  C22 C26        S   11   \n",
       "2     female   2.0000      1      2  113781  151.5500  C22 C26        S  NaN   \n",
       "3       male  30.0000      1      2  113781  151.5500  C22 C26        S  NaN   \n",
       "4     female  25.0000      1      2  113781  151.5500  C22 C26        S  NaN   \n",
       "...      ...      ...    ...    ...     ...       ...      ...      ...  ...   \n",
       "1304  female  14.5000      1      0    2665   14.4542      NaN        C  NaN   \n",
       "1305  female      NaN      1      0    2665   14.4542      NaN        C  NaN   \n",
       "1306    male  26.5000      0      0    2656    7.2250      NaN        C  NaN   \n",
       "1307    male  27.0000      0      0    2670    7.2250      NaN        C  NaN   \n",
       "1308    male  29.0000      0      0  315082    7.8750      NaN        S  NaN   \n",
       "\n",
       "       body                        home.dest  \n",
       "0       NaN                     St Louis, MO  \n",
       "1       NaN  Montreal, PQ / Chesterville, ON  \n",
       "2       NaN  Montreal, PQ / Chesterville, ON  \n",
       "3     135.0  Montreal, PQ / Chesterville, ON  \n",
       "4       NaN  Montreal, PQ / Chesterville, ON  \n",
       "...     ...                              ...  \n",
       "1304  328.0                              NaN  \n",
       "1305    NaN                              NaN  \n",
       "1306  304.0                              NaN  \n",
       "1307    NaN                              NaN  \n",
       "1308    NaN                              NaN  \n",
       "\n",
       "[1309 rows x 14 columns]>"
      ]
     },
     "execution_count": 3,
     "metadata": {},
     "output_type": "execute_result"
    }
   ],
   "source": [
    "df.head"
   ]
  }
 ],
 "metadata": {
  "kernelspec": {
   "display_name": "Python 3",
   "language": "python",
   "name": "python3"
  },
  "language_info": {
   "codemirror_mode": {
    "name": "ipython",
    "version": 3
   },
   "file_extension": ".py",
   "mimetype": "text/x-python",
   "name": "python",
   "nbconvert_exporter": "python",
   "pygments_lexer": "ipython3",
   "version": "3.11.6"
  }
 },
 "nbformat": 4,
 "nbformat_minor": 2
}
